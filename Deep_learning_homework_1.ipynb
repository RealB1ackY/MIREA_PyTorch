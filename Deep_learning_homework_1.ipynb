{
  "nbformat": 4,
  "nbformat_minor": 0,
  "metadata": {
    "colab": {
      "provenance": [],
      "authorship_tag": "ABX9TyPT6h0W6YorOTfcRvYDm9uC",
      "include_colab_link": true
    },
    "kernelspec": {
      "name": "python3",
      "display_name": "Python 3"
    },
    "language_info": {
      "name": "python"
    },
    "accelerator": "GPU",
    "gpuClass": "standard"
  },
  "cells": [
    {
      "cell_type": "markdown",
      "metadata": {
        "id": "view-in-github",
        "colab_type": "text"
      },
      "source": [
        "<a href=\"https://colab.research.google.com/github/RealB1ackY/MIREA_PyTorch/blob/main/Deep_learning_homework_1.ipynb\" target=\"_parent\"><img src=\"https://colab.research.google.com/assets/colab-badge.svg\" alt=\"Open In Colab\"/></a>"
      ]
    },
    {
      "cell_type": "code",
      "execution_count": 1,
      "metadata": {
        "colab": {
          "base_uri": "https://localhost:8080/",
          "height": 35
        },
        "id": "6Jkby9g1GtDZ",
        "outputId": "bb4fbf70-9e62-4664-f958-75f1c04dcdda"
      },
      "outputs": [
        {
          "output_type": "execute_result",
          "data": {
            "text/plain": [
              "'1.12.1+cu113'"
            ],
            "application/vnd.google.colaboratory.intrinsic+json": {
              "type": "string"
            }
          },
          "metadata": {},
          "execution_count": 1
        }
      ],
      "source": [
        "import torch\n",
        "torch.__version__ "
      ]
    },
    {
      "cell_type": "markdown",
      "source": [
        "ДЗ_01: neuron(neuron(1 * x1 + 1 * x2 - 0) - neuron(1 * x1 + 1 * x2 - 1))"
      ],
      "metadata": {
        "id": "aPqMZaezUMLi"
      }
    },
    {
      "cell_type": "code",
      "source": [
        "torch.cuda.is_available()"
      ],
      "metadata": {
        "colab": {
          "base_uri": "https://localhost:8080/"
        },
        "id": "3skzhBgJJ2Y1",
        "outputId": "2bc15db3-4809-431e-f2ea-2057d00c4814"
      },
      "execution_count": 2,
      "outputs": [
        {
          "output_type": "execute_result",
          "data": {
            "text/plain": [
              "True"
            ]
          },
          "metadata": {},
          "execution_count": 2
        }
      ]
    },
    {
      "cell_type": "code",
      "source": [
        "Xs = torch.tensor([[1,1], [1, 0], [0, 1], [0, 0]], dtype=torch.float32)\n",
        "Xy = torch.tensor([[1], [0], [1], [0]], dtype=torch.float32)"
      ],
      "metadata": {
        "id": "KvfrnyXMKFpn"
      },
      "execution_count": 51,
      "outputs": []
    },
    {
      "cell_type": "code",
      "source": [
        "from torch import nn\n",
        "from torch.optim import Adam\n",
        "\n",
        "\n",
        "class XORModel(nn.Module):\n",
        "  def __init__(self):\n",
        "    super().__init__()\n",
        "    self.layers = nn.Sequential(\n",
        "        nn.Linear(2, 2),\n",
        "        nn.Sigmoid(),\n",
        "        nn.Linear(2, 1),\n",
        "        nn.Sigmoid()\n",
        "    )\n",
        "    self.optimizer = Adam(self.parameters())\n",
        "    self.loss = nn.MSELoss()\n",
        "\n",
        "  def forward(self, X):\n",
        "    return self.layers(X)\n",
        "\n",
        "  def fit(self, X, y_true):\n",
        "    self.optimizer.zero_grad()\n",
        "    y_pred = self.forward(X)\n",
        "    loss = self.loss(y_true, y_pred)\n",
        "    loss.backward()\n",
        "    self.optimizer.step()\n",
        "    return loss.item()\n"
      ],
      "metadata": {
        "id": "6Du8oPKOK8H8"
      },
      "execution_count": 76,
      "outputs": []
    },
    {
      "cell_type": "code",
      "source": [
        "xor_model = XORModel()"
      ],
      "metadata": {
        "id": "-soXnEguMLw2"
      },
      "execution_count": 77,
      "outputs": []
    },
    {
      "cell_type": "code",
      "source": [
        "xor_model(Xs)"
      ],
      "metadata": {
        "colab": {
          "base_uri": "https://localhost:8080/"
        },
        "id": "0qZnJXbpQKCH",
        "outputId": "fb2b478a-1ed9-4545-d270-6c6ddde206e9"
      },
      "execution_count": 78,
      "outputs": [
        {
          "output_type": "execute_result",
          "data": {
            "text/plain": [
              "tensor([[0.6867],\n",
              "        [0.6869],\n",
              "        [0.6526],\n",
              "        [0.6538]], grad_fn=<SigmoidBackward0>)"
            ]
          },
          "metadata": {},
          "execution_count": 78
        }
      ]
    },
    {
      "cell_type": "code",
      "source": [
        "EPOCHS = 100000\n",
        "for i in range(EPOCHS):\n",
        "  if i % 1000 == 0:\n",
        "    loss = xor_model.fit(Xs, Xy)\n",
        "    print(loss)"
      ],
      "metadata": {
        "id": "xSt6LXmMUDND",
        "outputId": "5deb2ba6-12b0-47fe-e058-e1d454646015",
        "colab": {
          "base_uri": "https://localhost:8080/"
        }
      },
      "execution_count": 87,
      "outputs": [
        {
          "output_type": "stream",
          "name": "stdout",
          "text": [
            "7.890719327940943e-11\n",
            "7.890658959563979e-11\n",
            "7.890602754523357e-11\n",
            "7.890546549482735e-11\n",
            "7.890475078875525e-11\n",
            "7.890418873834903e-11\n",
            "7.89035850545794e-11\n",
            "7.890302300417318e-11\n",
            "7.890241932040354e-11\n",
            "7.890178094216438e-11\n",
            "7.890117725839474e-11\n",
            "7.890060826909462e-11\n",
            "7.89000531575823e-11\n",
            "7.889940784044924e-11\n",
            "7.88988041566796e-11\n",
            "7.889817271733435e-11\n",
            "7.889756903356471e-11\n",
            "7.889700004426459e-11\n",
            "7.889632697155591e-11\n",
            "7.889580655451311e-11\n",
            "7.889515429848615e-11\n",
            "7.889455755361041e-11\n",
            "7.88939955032042e-11\n",
            "7.889335712496504e-11\n",
            "7.88927534411954e-11\n",
            "7.889214975742576e-11\n",
            "7.88915113791866e-11\n",
            "7.889094932878038e-11\n",
            "7.88902762560717e-11\n",
            "7.888970726677158e-11\n",
            "7.888914521636536e-11\n",
            "7.88884998992323e-11\n",
            "7.888783376541753e-11\n",
            "7.888727171501131e-11\n",
            "7.888666109234777e-11\n",
            "7.888614067530497e-11\n",
            "7.888546066370239e-11\n",
            "7.888485697993275e-11\n",
            "7.888429492952653e-11\n",
            "7.88836981846508e-11\n",
            "7.888309450088116e-11\n",
            "7.888253245047494e-11\n",
            "7.888181774440284e-11\n",
            "7.88812140606332e-11\n",
            "7.888064507133308e-11\n",
            "7.888008302092686e-11\n",
            "7.887940994821818e-11\n",
            "7.887880626444854e-11\n",
            "7.88782095195728e-11\n",
            "7.887760583580317e-11\n",
            "7.887704378539695e-11\n",
            "7.887647479609683e-11\n",
            "7.887583641785767e-11\n",
            "7.887523967298193e-11\n",
            "7.887467068368181e-11\n",
            "7.887410169438169e-11\n",
            "7.887343556056692e-11\n",
            "7.88728665712668e-11\n",
            "7.887222819302764e-11\n",
            "7.88716314481519e-11\n",
            "7.887102776438226e-11\n",
            "7.887042408061262e-11\n",
            "7.886982733573689e-11\n",
            "7.88691473241343e-11\n",
            "7.886859221262199e-11\n",
            "7.886794689548893e-11\n",
            "7.886735015061319e-11\n",
            "7.886678810020697e-11\n",
            "7.886618441643733e-11\n",
            "7.88655807326677e-11\n",
            "7.886494235442854e-11\n",
            "7.886438030402232e-11\n",
            "7.886377662025268e-11\n",
            "7.886317987537694e-11\n",
            "7.886253455824388e-11\n",
            "7.886189618000472e-11\n",
            "7.886129249623508e-11\n",
            "7.886069575135934e-11\n",
            "7.886017533431655e-11\n",
            "7.885948838382006e-11\n",
            "7.885889163894433e-11\n",
            "7.885832264964421e-11\n",
            "7.885772590476847e-11\n",
            "7.885716385436226e-11\n",
            "7.885649078165358e-11\n",
            "7.885588015899003e-11\n",
            "7.885532504747772e-11\n",
            "7.88547629970715e-11\n",
            "7.885415931330186e-11\n",
            "7.88535209350627e-11\n",
            "7.885288255682354e-11\n",
            "7.88522788730539e-11\n",
            "7.885170988375378e-11\n",
            "7.885110619998414e-11\n",
            "7.885048169953279e-11\n",
            "7.884983638239973e-11\n",
            "7.884926739309961e-11\n",
            "7.884867758711778e-11\n",
            "7.884807390334814e-11\n",
            "7.88474702195785e-11\n"
          ]
        }
      ]
    },
    {
      "cell_type": "markdown",
      "source": [
        "ДЗ_02:"
      ],
      "metadata": {
        "id": "RWZJQBhuptM6"
      }
    },
    {
      "cell_type": "code",
      "source": [
        "import torch\n",
        "\n",
        "\n",
        "a = torch.tensor([2.0], requires_grad=True)\n",
        "b = torch.tensor([4.0], requires_grad=True)\n",
        "c = torch.tensor([1.0], requires_grad=True)\n",
        "d = torch.tensor([5.0], requires_grad=False)"
      ],
      "metadata": {
        "id": "rHAT-rNxnh-X"
      },
      "execution_count": 163,
      "outputs": []
    },
    {
      "cell_type": "code",
      "source": [
        "print(a.grad)"
      ],
      "metadata": {
        "id": "kHtu7lZ4b1kf",
        "outputId": "c22740ab-31f3-443c-a241-9e127edc3219",
        "colab": {
          "base_uri": "https://localhost:8080/"
        }
      },
      "execution_count": 164,
      "outputs": [
        {
          "output_type": "stream",
          "name": "stdout",
          "text": [
            "None\n"
          ]
        }
      ]
    },
    {
      "cell_type": "code",
      "source": [
        "loss = a * b + c * d\n",
        "loss.backward()"
      ],
      "metadata": {
        "id": "EIptMRSCb667"
      },
      "execution_count": 168,
      "outputs": []
    },
    {
      "cell_type": "code",
      "source": [
        "print(a.grad)\n",
        "print(b.grad)\n",
        "print(c.grad)\n",
        "print(d.grad)"
      ],
      "metadata": {
        "id": "DW7UAZWwcGGh",
        "outputId": "7a09e0a1-9f8a-4c97-9d68-92c3bd363392",
        "colab": {
          "base_uri": "https://localhost:8080/"
        }
      },
      "execution_count": 169,
      "outputs": [
        {
          "output_type": "stream",
          "name": "stdout",
          "text": [
            "tensor([8.])\n",
            "tensor([4.])\n",
            "tensor([10.])\n",
            "None\n"
          ]
        }
      ]
    }
  ]
}